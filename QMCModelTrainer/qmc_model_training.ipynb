{
 "cells": [
  {
   "cell_type": "markdown",
   "id": "ef103bfd-d250-46f5-b824-158c60d531a7",
   "metadata": {},
   "source": [
    "### **Step 1: Install Required Libraries**\n",
    "\n",
    "First, let's install the necessary libraries for this project:"
   ]
  },
  {
   "cell_type": "code",
   "execution_count": null,
   "id": "c187a6f7-aa20-4430-a0d5-859be930bd11",
   "metadata": {},
   "outputs": [],
   "source": [
    "!pip install pandas\n",
    "!pip install scikit-learn\n",
    "!pip install micromlgen\n",
    "!git clone git@github.com:BaseMax/C-Minifier.git\n",
    "!gcc C-Minifier/Minifier.c -o minifier -lm"
   ]
  },
  {
   "cell_type": "markdown",
   "id": "7fc25af8-3699-46fc-9a87-9563370a2f35",
   "metadata": {},
   "source": [
    "\n",
    "We'll be using:\n",
    "- Pandas for storing data in dataframes\n",
    "- Scikit-learn for model training\n",
    "- Micromlgen to port the model into a C++ header file\n",
    "- C-Minifier for compressing C files to assess model size\n",
    "\n",
    "\n",
    "### **Step 2: Import Libraries**\n",
    "\n",
    "Next, let's import the libraries we just installed so that our code blocks have access to their functions:\n",
    "\n"
   ]
  },
  {
   "cell_type": "code",
   "execution_count": null,
   "id": "bfae2bc2-f549-4c28-b179-bd0e55ccb89d",
   "metadata": {},
   "outputs": [],
   "source": [
    "import re\n",
    "import pandas as pd\n",
    "from sklearn.tree import DecisionTreeRegressor\n",
    "from sklearn.model_selection import train_test_split\n",
    "from micromlgen import port"
   ]
  },
  {
   "cell_type": "markdown",
   "id": "566d3633-5962-4a40-8af4-ef1ce5410618",
   "metadata": {},
   "source": [
    "### **Step 3: Prepare Data**\n",
    "\n",
    "Now, let's read our CSV data file into a dataframe and split it into training and testing datasets.  \n",
    "We'll go for an 80%, 20% split for training and testing, but feel free to adjust this as needed:\n",
    "\n"
   ]
  },
  {
   "cell_type": "code",
   "execution_count": null,
   "id": "01bfd43f-b0ae-4f5f-9ab2-8139b94a4048",
   "metadata": {},
   "outputs": [],
   "source": [
    "csvFile = \"compassAndHeadingData.csv\"\n",
    "df = pd.read_csv(csvFile)\n",
    "X = df[['X', 'Y', 'Z']]\n",
    "y = df['Heading']\n",
    "X_train, X_test, y_train, y_test = train_test_split(X, y, test_size=0.2)"
   ]
  },
  {
   "cell_type": "markdown",
   "id": "93c029fb-4a58-4c84-8ca1-bcebcf45912e",
   "metadata": {},
   "source": [
    "### **Step 4: Train the Model**\n",
    "\n",
    "We'll now train our model on the data we've split. \n",
    "We've opted for a Decision Tree model, but you can experiment with other models and parameters.\n",
    "\n",
    "Supported models for porting with micromlgen include:\n",
    "- DecisionTree\n",
    "- RandomForest\n",
    "- XGBoost\n",
    "- GaussianNB\n",
    "- Support Vector Machines (SVC and OneClassSVM)\n",
    "- Relevant Vector Machines (from skbayes.rvm_ard_models package)\n",
    "- SEFR\n",
    "- PCA"
   ]
  },
  {
   "cell_type": "code",
   "execution_count": null,
   "id": "935db3e1-52b3-4392-b81e-f09ae5ae0a26",
   "metadata": {},
   "outputs": [],
   "source": [
    "model = DecisionTreeRegressor(max_depth=12, min_samples_leaf=20)\n",
    "model.fit(X_train, y_train)"
   ]
  },
  {
   "cell_type": "markdown",
   "id": "f114bc13-8d53-49cd-8818-1ef97710b8b5",
   "metadata": {},
   "source": [
    "\n",
    "### **Step 5: Evaluate the Model**\n",
    "\n",
    "Let's evaluate the model's performance.  \n",
    "A score closer to 1 indicates better performance on the test data:\n",
    "\n"
   ]
  },
  {
   "cell_type": "code",
   "execution_count": null,
   "id": "41565b2a-17b8-49aa-9a1a-645b0282efe2",
   "metadata": {},
   "outputs": [],
   "source": [
    "score = model.score(X_test, y_test)\n",
    "print(\"Model Score:\", score)"
   ]
  },
  {
   "cell_type": "markdown",
   "id": "2dfd477c-0152-486c-a77f-f5af7dd1872a",
   "metadata": {},
   "source": [
    "\n",
    "### **Step 6: Port the Trained Model to C++**\n",
    "\n",
    "Finally, we'll write the model to a C++ header file and use the minifier from earlier to evaluate it's size.  \n",
    "We aim for a model size under 8-10 kilobytes to fit within the Arduino's limited memory:\n",
    "\n"
   ]
  },
  {
   "cell_type": "code",
   "execution_count": null,
   "id": "f711d7ca-8760-4f11-99ca-c1bb78e6067b",
   "metadata": {},
   "outputs": [],
   "source": [
    "with open('../QMC5883LCompass/model.h', 'w') as file:\n",
    "    file.write(port(model))\n",
    "!./minifier ../QMC5883LCompass/model.h ../QMC5883LCompass/model.h\n",
    "with open('../QMC5883LCompass/model.h', 'r') as file:\n",
    "    content = file.read()\n",
    "    match = re.search(r'class\\s+(\\w+)', content)\n",
    "    if match:\n",
    "        className = match.group(1)\n",
    "        content = content.replace(className, 'Model')\n",
    "    else:\n",
    "        print(\"you'll need to manually change the class name in the model file to 'Model' for the library to work\")\n",
    "    file.seek(0, 2)\n",
    "    size = file.tell()/1000\n",
    "    print(\"The model is {} kilobytes\".format(size))\n",
    "\n",
    "with open('../QMC5883LCompass/model.h', 'w') as file:\n",
    "    file.write(content)"
   ]
  }
 ],
 "metadata": {
  "kernelspec": {
   "display_name": "Python 3 (ipykernel)",
   "language": "python",
   "name": "python3"
  },
  "language_info": {
   "codemirror_mode": {
    "name": "ipython",
    "version": 3
   },
   "file_extension": ".py",
   "mimetype": "text/x-python",
   "name": "python",
   "nbconvert_exporter": "python",
   "pygments_lexer": "ipython3",
   "version": "3.10.12"
  }
 },
 "nbformat": 4,
 "nbformat_minor": 5
}
